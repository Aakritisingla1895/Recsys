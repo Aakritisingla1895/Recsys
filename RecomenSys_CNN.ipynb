{
 "cells": [
  {
   "cell_type": "code",
   "execution_count": 1,
   "metadata": {},
   "outputs": [
    {
     "name": "stderr",
     "output_type": "stream",
     "text": [
      "Using TensorFlow backend.\n"
     ]
    }
   ],
   "source": [
    "from keras.models import Sequential\n",
    "from keras.layers import Conv1D, GlobalMaxPooling1D, Embedding, LSTM\n",
    "from keras.layers.core import Dense, Dropout, Activation\n",
    "from keras.preprocessing.text import Tokenizer\n",
    "from keras import metrics, regularizers\n",
    "from keras.preprocessing import sequence\n",
    "import pandas as pd\n",
    "\n",
    "from sklearn.model_selection import train_test_split\n",
    "from sklearn.preprocessing import LabelBinarizer"
   ]
  },
  {
   "cell_type": "code",
   "execution_count": 2,
   "metadata": {},
   "outputs": [],
   "source": [
    "data = pd.read_csv('bio_clean.csv', header = 0, names = ['affliations', 'article_name'])"
   ]
  },
  {
   "cell_type": "code",
   "execution_count": 4,
   "metadata": {},
   "outputs": [],
   "source": [
    "#Split the dataset to Training and Test subsets (90/10)\n",
    "train, test = train_test_split(data, test_size = 0.1, random_state = 17) #random_state = None\n",
    "\n",
    "train_descs = train['article_name']\n",
    "train_labels = train['affliations']\n",
    " \n",
    "test_descs = test['article_name']\n",
    "test_labels = test['affliations']"
   ]
  },
  {
   "cell_type": "code",
   "execution_count": 5,
   "metadata": {},
   "outputs": [],
   "source": [
    "# Model Parameters\n",
    "vocab_size = 2000\n",
    "\n",
    "sequences_length = 1200\n",
    "\n",
    "embedding_dimensionality = 64 #possibly low??\n",
    "max_features = 2000 #equal to vocab_size\n",
    "\n",
    "num_labels = len(train_labels.unique())\n",
    "batch_size = 32\n",
    "nb_epoch = 20\n",
    "\n",
    "nof_filters = 200 #check + research ... random now\n",
    "kernel_size = 16 #check + research ... random now\n",
    "\n",
    "hidden_dims = 1024"
   ]
  },
  {
   "cell_type": "code",
   "execution_count": 6,
   "metadata": {},
   "outputs": [],
   "source": [
    "# Convert Texts to Numeric Vectors for Input\n",
    "tokenizer = Tokenizer(num_words = vocab_size)\n",
    "tokenizer.fit_on_texts(train_descs)\n",
    "\n",
    "x_train = tokenizer.texts_to_sequences(train_descs)\n",
    "x_test = tokenizer.texts_to_sequences(test_descs)\n",
    "\n",
    "x_train = sequence.pad_sequences(x_train, maxlen = sequences_length, padding = 'post')\n",
    "x_test = sequence.pad_sequences(x_test, maxlen = sequences_length, padding = 'post')\n",
    "\n",
    "encoder = LabelBinarizer()\n",
    "encoder.fit(train_labels)\n",
    "y_train = encoder.transform(train_labels)\n",
    "y_test = encoder.transform(test_labels)"
   ]
  },
  {
   "cell_type": "code",
   "execution_count": 7,
   "metadata": {},
   "outputs": [
    {
     "name": "stdout",
     "output_type": "stream",
     "text": [
      "WARNING:tensorflow:From C:\\Users\\Aakriti Singla\\Anaconda3\\lib\\site-packages\\tensorflow\\python\\ops\\resource_variable_ops.py:435: colocate_with (from tensorflow.python.framework.ops) is deprecated and will be removed in a future version.\n",
      "Instructions for updating:\n",
      "Colocations handled automatically by placer.\n",
      "Model: \"sequential_1\"\n",
      "_________________________________________________________________\n",
      "Layer (type)                 Output Shape              Param #   \n",
      "=================================================================\n",
      "embedding_1 (Embedding)      (None, 1200, 64)          128000    \n",
      "_________________________________________________________________\n",
      "conv1d_1 (Conv1D)            (None, 1185, 200)         205000    \n",
      "_________________________________________________________________\n",
      "global_max_pooling1d_1 (Glob (None, 200)               0         \n",
      "_________________________________________________________________\n",
      "dense_1 (Dense)              (None, 1024)              205824    \n",
      "_________________________________________________________________\n",
      "dropout_1 (Dropout)          (None, 1024)              0         \n",
      "_________________________________________________________________\n",
      "activation_1 (Activation)    (None, 1024)              0         \n",
      "_________________________________________________________________\n",
      "dense_2 (Dense)              (None, 8)                 8200      \n",
      "_________________________________________________________________\n",
      "activation_2 (Activation)    (None, 8)                 0         \n",
      "=================================================================\n",
      "Total params: 547,024\n",
      "Trainable params: 547,024\n",
      "Non-trainable params: 0\n",
      "_________________________________________________________________\n"
     ]
    }
   ],
   "source": [
    "model = Sequential()\n",
    "model.add(Embedding(max_features, embedding_dimensionality, input_length = 1200))\n",
    "#model.add(LSTM(100, dropout=0.2, recurrent_dropout=0.2))\n",
    "\n",
    "model.add(Conv1D(nof_filters, kernel_size, padding='valid', activation='relu', strides = 1))\n",
    "model.add(GlobalMaxPooling1D())\n",
    "\n",
    "model.add(Dense(hidden_dims))\n",
    "model.add(Dropout(0.3))\n",
    "model.add(Activation('relu'))\n",
    "\n",
    "model.add(Dense(num_labels))\n",
    "model.add(Activation('softmax'))\n",
    "\n",
    "model.summary()\n",
    "model.compile(loss='categorical_crossentropy', optimizer='adam', #'sgd', 'adam', 'RMSprop', 'Adagrad'\n",
    "                   metrics = [metrics.categorical_accuracy])"
   ]
  },
  {
   "cell_type": "code",
   "execution_count": 8,
   "metadata": {},
   "outputs": [
    {
     "name": "stdout",
     "output_type": "stream",
     "text": [
      "WARNING:tensorflow:From C:\\Users\\Aakriti Singla\\Anaconda3\\lib\\site-packages\\tensorflow\\python\\ops\\math_ops.py:3066: to_int32 (from tensorflow.python.ops.math_ops) is deprecated and will be removed in a future version.\n",
      "Instructions for updating:\n",
      "Use tf.cast instead.\n",
      "WARNING:tensorflow:From C:\\Users\\Aakriti Singla\\Anaconda3\\lib\\site-packages\\tensorflow\\python\\ops\\math_grad.py:102: div (from tensorflow.python.ops.math_ops) is deprecated and will be removed in a future version.\n",
      "Instructions for updating:\n",
      "Deprecated in favor of operator or tf.math.divide.\n",
      "Train on 12 samples, validate on 3 samples\n",
      "Epoch 1/20\n",
      "12/12 [==============================] - 3s 253ms/step - loss: 2.0722 - categorical_accuracy: 0.2500 - val_loss: 2.0532 - val_categorical_accuracy: 0.3333\n",
      "Epoch 2/20\n",
      "12/12 [==============================] - 1s 46ms/step - loss: 1.9767 - categorical_accuracy: 0.5833 - val_loss: 2.0239 - val_categorical_accuracy: 0.3333\n",
      "Epoch 3/20\n",
      "12/12 [==============================] - 1s 48ms/step - loss: 1.8691 - categorical_accuracy: 0.5833 - val_loss: 1.9983 - val_categorical_accuracy: 0.3333\n",
      "Epoch 4/20\n",
      "12/12 [==============================] - 1s 49ms/step - loss: 1.7367 - categorical_accuracy: 0.5833 - val_loss: 1.9993 - val_categorical_accuracy: 0.3333\n",
      "Epoch 5/20\n",
      "12/12 [==============================] - 1s 46ms/step - loss: 1.6032 - categorical_accuracy: 0.5833 - val_loss: 2.0753 - val_categorical_accuracy: 0.3333\n",
      "Epoch 6/20\n",
      "12/12 [==============================] - 1s 49ms/step - loss: 1.4487 - categorical_accuracy: 0.5833 - val_loss: 2.2833 - val_categorical_accuracy: 0.3333\n",
      "Epoch 7/20\n",
      "12/12 [==============================] - 1s 42ms/step - loss: 1.4313 - categorical_accuracy: 0.5833 - val_loss: 2.5819 - val_categorical_accuracy: 0.3333\n",
      "Epoch 8/20\n",
      "12/12 [==============================] - 1s 51ms/step - loss: 1.5216 - categorical_accuracy: 0.5833 - val_loss: 2.7846 - val_categorical_accuracy: 0.3333\n",
      "Epoch 9/20\n",
      "12/12 [==============================] - 1s 47ms/step - loss: 1.5012 - categorical_accuracy: 0.5833 - val_loss: 2.8652 - val_categorical_accuracy: 0.3333\n",
      "Epoch 10/20\n",
      "12/12 [==============================] - 1s 46ms/step - loss: 1.4789 - categorical_accuracy: 0.5833 - val_loss: 2.8582 - val_categorical_accuracy: 0.3333\n",
      "Epoch 11/20\n",
      "12/12 [==============================] - 1s 46ms/step - loss: 1.4426 - categorical_accuracy: 0.5833 - val_loss: 2.8148 - val_categorical_accuracy: 0.3333\n",
      "Epoch 12/20\n",
      "12/12 [==============================] - 1s 48ms/step - loss: 1.3666 - categorical_accuracy: 0.5833 - val_loss: 2.7763 - val_categorical_accuracy: 0.3333\n",
      "Epoch 13/20\n",
      "12/12 [==============================] - 1s 48ms/step - loss: 1.3541 - categorical_accuracy: 0.5833 - val_loss: 2.7596 - val_categorical_accuracy: 0.3333\n",
      "Epoch 14/20\n",
      "12/12 [==============================] - 1s 46ms/step - loss: 1.3544 - categorical_accuracy: 0.5833 - val_loss: 2.7673 - val_categorical_accuracy: 0.3333\n",
      "Epoch 15/20\n",
      "12/12 [==============================] - 1s 44ms/step - loss: 1.3776 - categorical_accuracy: 0.5833 - val_loss: 2.7974 - val_categorical_accuracy: 0.3333\n",
      "Epoch 16/20\n",
      "12/12 [==============================] - 1s 49ms/step - loss: 1.3738 - categorical_accuracy: 0.5833 - val_loss: 2.8475 - val_categorical_accuracy: 0.3333\n",
      "Epoch 17/20\n",
      "12/12 [==============================] - 1s 50ms/step - loss: 1.3720 - categorical_accuracy: 0.5833 - val_loss: 2.9183 - val_categorical_accuracy: 0.3333\n",
      "Epoch 18/20\n",
      "12/12 [==============================] - 0s 40ms/step - loss: 1.3937 - categorical_accuracy: 0.5833 - val_loss: 3.0065 - val_categorical_accuracy: 0.3333\n",
      "Epoch 19/20\n",
      "12/12 [==============================] - 1s 42ms/step - loss: 1.3392 - categorical_accuracy: 0.5833 - val_loss: 3.1130 - val_categorical_accuracy: 0.3333\n",
      "Epoch 20/20\n",
      "12/12 [==============================] - 1s 48ms/step - loss: 1.3295 - categorical_accuracy: 0.5833 - val_loss: 3.2399 - val_categorical_accuracy: 0.3333\n"
     ]
    }
   ],
   "source": [
    "history = model.fit(x_train, y_train,\n",
    "                    batch_size = batch_size,\n",
    "                    epochs = nb_epoch,\n",
    "                    verbose = True,\n",
    "                    validation_split = 0.2)"
   ]
  },
  {
   "cell_type": "code",
   "execution_count": 9,
   "metadata": {},
   "outputs": [
    {
     "name": "stdout",
     "output_type": "stream",
     "text": [
      "2/2 [==============================] - 0s 10ms/step\n",
      "\n",
      "Test categorical_crossentropy: 0.5607707500457764\n",
      "Categorical accuracy: 1.0\n"
     ]
    }
   ],
   "source": [
    "score = model.evaluate(x_test, y_test, batch_size = batch_size, verbose = True)\n",
    " \n",
    "print('\\nTest categorical_crossentropy:', score[0])\n",
    "print('Categorical accuracy:', score[1])"
   ]
  },
  {
   "cell_type": "code",
   "execution_count": null,
   "metadata": {},
   "outputs": [],
   "source": []
  }
 ],
 "metadata": {
  "kernelspec": {
   "display_name": "Python 3",
   "language": "python",
   "name": "python3"
  },
  "language_info": {
   "codemirror_mode": {
    "name": "ipython",
    "version": 3
   },
   "file_extension": ".py",
   "mimetype": "text/x-python",
   "name": "python",
   "nbconvert_exporter": "python",
   "pygments_lexer": "ipython3",
   "version": "3.7.4"
  }
 },
 "nbformat": 4,
 "nbformat_minor": 2
}
